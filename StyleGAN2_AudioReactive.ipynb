{
  "nbformat": 4,
  "nbformat_minor": 0,
  "metadata": {
    "colab": {
      "name": "StyleGAN2-AudioReactive",
      "provenance": [],
      "machine_shape": "hm",
      "include_colab_link": true
    },
    "kernelspec": {
      "name": "python3",
      "display_name": "Python 3"
    },
    "accelerator": "GPU"
  },
  "cells": [
    {
      "cell_type": "markdown",
      "metadata": {
        "id": "view-in-github",
        "colab_type": "text"
      },
      "source": [
        "<a href=\"https://colab.research.google.com/github/RyanRash/NewRepoforAudioReactive/blob/main/StyleGAN2_AudioReactive.ipynb\" target=\"_parent\"><img src=\"https://colab.research.google.com/assets/colab-badge.svg\" alt=\"Open In Colab\"/></a>"
      ]
    },
    {
      "cell_type": "markdown",
      "metadata": {
        "id": "lC45WUtANxZ8"
      },
      "source": [
        "#StyleGAN2 Reactive Audio\n",
        "\n",
        "By Derrick Schultz for the StyleGAN2 Deep Dive class.\n",
        "\n",
        "This notebook shows one basic example of how to alter your StyleGAN2 vectors with audio. There are lots of different techniques to explore in this, but this is one simple way.\n",
        "\n",
        "Big thanks to Robert Luxemburg who provided the basis for a lot of this code with [this gist](https://gist.github.com/rolux/48f1da6cf2bc6ca5833dbacbf852b348)."
      ]
    },
    {
      "cell_type": "markdown",
      "metadata": {
        "id": "m788lAb7OtJt"
      },
      "source": [
        "##Installation\n",
        "\n",
        "First let’s install the repos and dependencies needed."
      ]
    },
    {
      "cell_type": "code",
      "metadata": {
        "id": "5n6wTwbFOofN",
        "outputId": "2b43b800-0ccf-4865-f357-0a702371116c",
        "colab": {
          "base_uri": "https://localhost:8080/"
        }
      },
      "source": [
        "%tensorflow_version 1.x\n",
        "\n",
        "# Derrick's repo (even if you trained with skyflynil this will work!)\n",
        "!git clone https://github.com/dvschultz/stylegan2.git #use this fork to get interpolation functions\n",
        "!pip install opensimplex # needed for noise interpolation\n",
        "%cd stylegan2"
      ],
      "execution_count": 1,
      "outputs": [
        {
          "output_type": "stream",
          "name": "stdout",
          "text": [
            "TensorFlow 1.x selected.\n",
            "Cloning into 'stylegan2'...\n",
            "remote: Enumerating objects: 552, done.\u001b[K\n",
            "remote: Total 552 (delta 0), reused 0 (delta 0), pack-reused 552\u001b[K\n",
            "Receiving objects: 100% (552/552), 22.47 MiB | 4.07 MiB/s, done.\n",
            "Resolving deltas: 100% (285/285), done.\n",
            "Looking in indexes: https://pypi.org/simple, https://us-python.pkg.dev/colab-wheels/public/simple/\n",
            "Collecting opensimplex\n",
            "  Downloading opensimplex-0.4.2-py3-none-any.whl (17 kB)\n",
            "Requirement already satisfied: numpy>=1.20 in /usr/local/lib/python3.7/dist-packages (from opensimplex) (1.21.6)\n",
            "Installing collected packages: opensimplex\n",
            "Successfully installed opensimplex-0.4.2\n",
            "/content/stylegan2\n"
          ]
        }
      ]
    },
    {
      "cell_type": "code",
      "metadata": {
        "id": "RjLMuFGqPCez",
        "outputId": "32c4bcd8-049b-4379-bef6-2b523537d73c",
        "colab": {
          "base_uri": "https://localhost:8080/"
        }
      },
      "source": [
        "!gdown --id 1UlDmJVLLnBD9SnLSMXeiZRO6g-OMQCA_ -O /content/ffhq.pkl"
      ],
      "execution_count": 2,
      "outputs": [
        {
          "output_type": "stream",
          "name": "stdout",
          "text": [
            "/usr/local/lib/python3.7/dist-packages/gdown/cli.py:131: FutureWarning: Option `--id` was deprecated in version 4.3.1 and will be removed in 5.0. You don't need to pass it anymore to use a file ID.\n",
            "  category=FutureWarning,\n",
            "Access denied with the following error:\n",
            "\n",
            " \tCannot retrieve the public link of the file. You may need to change\n",
            "\tthe permission to 'Anyone with the link', or have had many accesses. \n",
            "\n",
            "You may still be able to access the file from the browser:\n",
            "\n",
            "\t https://drive.google.com/uc?id=1UlDmJVLLnBD9SnLSMXeiZRO6g-OMQCA_ \n",
            "\n"
          ]
        }
      ]
    },
    {
      "cell_type": "markdown",
      "metadata": {
        "id": "4DWRv9BWTr4A"
      },
      "source": [
        "## Upload an audio file\n",
        "\n",
        "I recommend uploading something simple to start with (think a single instrument or track with silence in it). The file should be in .mp3 or .wav format."
      ]
    },
    {
      "cell_type": "code",
      "metadata": {
        "id": "DPIf-xU-TxdN",
        "outputId": "61ddb7a8-b724-4bc3-a9f4-ed68ee56ab61",
        "colab": {
          "resources": {
            "http://localhost:8080/nbextensions/google.colab/files.js": {
              "data": "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",
              "ok": true,
              "headers": [
                [
                  "content-type",
                  "application/javascript"
                ]
              ],
              "status": 200,
              "status_text": ""
            }
          },
          "base_uri": "https://localhost:8080/",
          "height": 74
        }
      },
      "source": [
        "from google.colab import files\n",
        "\n",
        "uploaded = files.upload()\n",
        "\n",
        "# for fn in uploaded.keys():\n",
        "#   print('User uploaded file \"{name}\" with length {length} bytes'.format(\n",
        "#       name=fn, length=len(uploaded[fn])))"
      ],
      "execution_count": 3,
      "outputs": [
        {
          "output_type": "display_data",
          "data": {
            "text/plain": [
              "<IPython.core.display.HTML object>"
            ],
            "text/html": [
              "\n",
              "     <input type=\"file\" id=\"files-77a5bba1-628d-497d-9f15-7bf88d9c3659\" name=\"files[]\" multiple disabled\n",
              "        style=\"border:none\" />\n",
              "     <output id=\"result-77a5bba1-628d-497d-9f15-7bf88d9c3659\">\n",
              "      Upload widget is only available when the cell has been executed in the\n",
              "      current browser session. Please rerun this cell to enable.\n",
              "      </output>\n",
              "      <script src=\"/nbextensions/google.colab/files.js\"></script> "
            ]
          },
          "metadata": {}
        },
        {
          "output_type": "stream",
          "name": "stdout",
          "text": [
            "Saving Drops of Saturn OBS version.wav to Drops of Saturn OBS version.wav\n"
          ]
        }
      ]
    },
    {
      "cell_type": "markdown",
      "metadata": {
        "id": "1JXB3HnLjP-j"
      },
      "source": [
        "##Process audio\n",
        "The next step process our audio files. Edit the first line of the next cell to point to your audio file. The run the cell after that to process the audio and generate a graph of the volume data."
      ]
    },
    {
      "cell_type": "code",
      "metadata": {
        "id": "i8TWpZNjTwWa"
      },
      "source": [
        "wav_filename = '/content/stylegan2/Drops of Saturn OBS version.wav'\n",
        "fps = 30\n"
      ],
      "execution_count": 4,
      "outputs": []
    },
    {
      "cell_type": "code",
      "metadata": {
        "id": "tMKDAPieT7XE",
        "outputId": "b07e9925-7ef0-4ea4-b75d-e9c246d46e23",
        "colab": {
          "base_uri": "https://localhost:8080/",
          "height": 336
        }
      },
      "source": [
        "import os\n",
        "import numpy as np\n",
        "from scipy.interpolate import interp1d\n",
        "from scipy.io import wavfile\n",
        "import matplotlib.pyplot as plt\n",
        "import PIL.Image\n",
        "import moviepy.editor\n",
        "\n",
        "import dnnlib\n",
        "import dnnlib.tflib as tflib\n",
        "import pretrained_networks\n",
        "\n",
        "audio = {}\n",
        "\n",
        "if not os.path.exists(wav_filename):\n",
        "    audio_clip = moviepy.editor.AudioFileClip(wav_filename)\n",
        "    audio_clip.write_audiofile(wav_filename, fps=44100, nbytes=2, codec='pcm_s16le')\n",
        "track_name = os.path.basename(wav_filename)[:-4]\n",
        "rate, signal = wavfile.read(wav_filename)\n",
        "signal = np.mean(signal, axis=1) # to mono\n",
        "signal = np.abs(signal)\n",
        "# seed = signal.shape[0]\n",
        "duration = signal.shape[0] / rate\n",
        "frames = int(np.ceil(duration * fps))\n",
        "samples_per_frame = signal.shape[0] / frames\n",
        "audio[track_name] = np.zeros(frames, dtype=signal.dtype)\n",
        "for frame in range(frames):\n",
        "    start = int(round(frame * samples_per_frame))\n",
        "    stop = int(round((frame + 1) * samples_per_frame))\n",
        "    audio[track_name][frame] = np.mean(signal[start:stop], axis=0)\n",
        "audio[track_name] /= max(audio[track_name])\n",
        "\n",
        "for track in sorted(audio.keys()):\n",
        "    plt.figure(figsize=(8, 3))\n",
        "    plt.title(track)\n",
        "    plt.plot(audio[track])\n",
        "    plt.savefig(f'../{track}.png')"
      ],
      "execution_count": 5,
      "outputs": [
        {
          "output_type": "stream",
          "name": "stdout",
          "text": [
            "Imageio: 'ffmpeg-linux64-v3.3.1' was not found on your computer; downloading it now.\n",
            "Try 1. Download from https://github.com/imageio/imageio-binaries/raw/master/ffmpeg/ffmpeg-linux64-v3.3.1 (43.8 MB)\n",
            "Downloading: 8192/45929032 bytes (0.0%)\b\b\b\b\b\b\b\b\b\b\b\b\b\b\b\b\b\b\b\b\b\b\b\b\b\b2490368/45929032 bytes (5.4%)\b\b\b\b\b\b\b\b\b\b\b\b\b\b\b\b\b\b\b\b\b\b\b\b\b\b\b\b\b6733824/45929032 bytes (14.7%)\b\b\b\b\b\b\b\b\b\b\b\b\b\b\b\b\b\b\b\b\b\b\b\b\b\b\b\b\b\b10985472/45929032 bytes (23.9%)\b\b\b\b\b\b\b\b\b\b\b\b\b\b\b\b\b\b\b\b\b\b\b\b\b\b\b\b\b\b\b15228928/45929032 bytes (33.2%)\b\b\b\b\b\b\b\b\b\b\b\b\b\b\b\b\b\b\b\b\b\b\b\b\b\b\b\b\b\b\b19480576/45929032 bytes (42.4%)\b\b\b\b\b\b\b\b\b\b\b\b\b\b\b\b\b\b\b\b\b\b\b\b\b\b\b\b\b\b\b23617536/45929032 bytes (51.4%)\b\b\b\b\b\b\b\b\b\b\b\b\b\b\b\b\b\b\b\b\b\b\b\b\b\b\b\b\b\b\b27623424/45929032 bytes (60.1%)\b\b\b\b\b\b\b\b\b\b\b\b\b\b\b\b\b\b\b\b\b\b\b\b\b\b\b\b\b\b\b31006720/45929032 bytes (67.5%)\b\b\b\b\b\b\b\b\b\b\b\b\b\b\b\b\b\b\b\b\b\b\b\b\b\b\b\b\b\b\b34652160/45929032 bytes (75.4%)\b\b\b\b\b\b\b\b\b\b\b\b\b\b\b\b\b\b\b\b\b\b\b\b\b\b\b\b\b\b\b37961728/45929032 bytes (82.7%)\b\b\b\b\b\b\b\b\b\b\b\b\b\b\b\b\b\b\b\b\b\b\b\b\b\b\b\b\b\b\b41156608/45929032 bytes (89.6%)\b\b\b\b\b\b\b\b\b\b\b\b\b\b\b\b\b\b\b\b\b\b\b\b\b\b\b\b\b\b\b44851200/45929032 bytes (97.7%)\b\b\b\b\b\b\b\b\b\b\b\b\b\b\b\b\b\b\b\b\b\b\b\b\b\b\b\b\b\b\b45929032/45929032 bytes (100.0%)\n",
            "  Done\n",
            "File saved as /root/.imageio/ffmpeg/ffmpeg-linux64-v3.3.1.\n"
          ]
        },
        {
          "output_type": "display_data",
          "data": {
            "text/plain": [
              "<Figure size 576x216 with 1 Axes>"
            ],
            "image/png": "[encoded data removed]"
          },
          "metadata": {
            "needs_background": "light"
          }
        }
      ]
    },
    {
      "cell_type": "markdown",
      "metadata": {
        "id": "ONTlyw6ZUNQl"
      },
      "source": [
        "Run the next cell to define some functions we’ll need to use to generate our inference images."
      ]
    },
    {
      "cell_type": "code",
      "metadata": {
        "id": "KyCHTNpzPuWL"
      },
      "source": [
        "import random\n",
        "def generate_zs_from_seeds(seeds,Gs):\n",
        "    zs = []\n",
        "    for seed_idx, seed in enumerate(seeds):\n",
        "        rnd = np.random.RandomState(seed)\n",
        "        z = rnd.randn(1, *Gs.input_shape[1:]) # [minibatch, component]\n",
        "        zs.append(z)\n",
        "    return zs\n",
        "\n",
        "def convertZtoW(latent, truncation_psi=0.7, truncation_cutoff=9):\n",
        "  dlatent = Gs.components.mapping.run(latent, None) # [seed, layer, component]\n",
        "  dlatent_avg = Gs.get_var('dlatent_avg') # [component]\n",
        "  for i in range(truncation_cutoff):\n",
        "    dlatent[0][i] = (dlatent[0][i]-dlatent_avg)*truncation_psi + dlatent_avg\n",
        "    \n",
        "  return dlatent\n",
        "\n",
        "def generate_images_in_w_space(dlatents, truncation_psi,folder='random'):\n",
        "    Gs_kwargs = dnnlib.EasyDict()\n",
        "    Gs_kwargs.output_transform = dict(func=tflib.convert_images_to_uint8, nchw_to_nhwc=True)\n",
        "    Gs_kwargs.randomize_noise = False\n",
        "    Gs_kwargs.truncation_psi = truncation_psi\n",
        "    dlatent_avg = Gs.get_var('dlatent_avg') # [component]\n",
        "\n",
        "    if folder == 'random':\n",
        "      temp_dir = 'frames%06d'%int(1000000*random.random())\n",
        "    else:\n",
        "      temp_dir = folder\n",
        "    os.system('mkdir %s'%temp_dir)\n",
        "\n",
        "    for row, dlatent in enumerate(dlatents):\n",
        "        print('Generating image for step %d/%d ...' % (row, len(dlatents)))\n",
        "        #row_dlatents = (dlatent[np.newaxis] - dlatent_avg) * np.reshape(truncation_psi, [-1, 1, 1]) + dlatent_avg\n",
        "        dl = (dlatent-dlatent_avg)*truncation_psi   + dlatent_avg\n",
        "        row_images = Gs.components.synthesis.run(dlatent,  **Gs_kwargs)\n",
        "        PIL.Image.fromarray(row_images[0], 'RGB').save('%s/frame%05d.png' % (temp_dir, row))"
      ],
      "execution_count": 6,
      "outputs": []
    },
    {
      "cell_type": "markdown",
      "metadata": {
        "id": "kByt3G4yUp02"
      },
      "source": [
        "## Generate Images\n",
        "\n",
        "### Use Volume to interpolate between two seeds\n",
        "The next cell will take two seed values and do a linear interpolation of them using the volume from your audio. When the audio is silent, it will be the first seed you list. When it is at its loudest it will be the second. Everything in between will be an interpolated value."
      ]
    },
    {
      "cell_type": "code",
      "metadata": {
        "id": "VSPddCx9iVSR",
        "colab": {
          "base_uri": "https://localhost:8080/"
        },
        "outputId": "3cbcdcbd-2411-4db5-c3ed-e767ee0ad10f"
      },
      "source": [
        "network_pkl = '/content/stylegan2/stylegan2-ffhq-config-f.pkl'\n",
        "!wget http://d36zk2xti64re0.cloudfront.net/stylegan2/networks/stylegan2-ffhq-config-f.pkl\n",
        "seeds=[75,100]\n",
        "truncation_value = 0.5\n",
        "\n",
        "#you probably won't need to edit anything below this\n",
        "_G, _D, Gs = pretrained_networks.load_networks(network_pkl)\n",
        "\n",
        "Gs_kwargs = dnnlib.EasyDict()\n",
        "Gs_kwargs.output_transform = dict(func=tflib.convert_images_to_uint8, nchw_to_nhwc=True)\n",
        "Gs_kwargs.randomize_noise = False\n",
        "Gs_syn_kwargs = dnnlib.EasyDict()\n",
        "Gs_syn_kwargs.output_transform = dict(func=tflib.convert_images_to_uint8, nchw_to_nhwc=True)\n",
        "Gs_syn_kwargs.randomize_noise = False\n",
        "Gs_syn_kwargs.minibatch_size = 4\n",
        "noise_vars = [var for name, var in Gs.components.synthesis.vars.items() if name.startswith('noise')]\n",
        "w_avg = Gs.get_var('dlatent_avg')\n",
        "\n",
        "def get_ws(n, frames, seed):\n",
        "    filename = f'../ws_{n}_{frames}_{seed}.npy'\n",
        "    if not os.path.exists(filename):\n",
        "        src_ws = np.random.RandomState(seed).randn(n, 512)\n",
        "        ws = np.empty((frames, 512))\n",
        "        for i in range(512):\n",
        "            x = np.linspace(0, 3*frames, 3*len(src_ws), endpoint=False)\n",
        "            y = np.tile(src_ws[:, i], 3)\n",
        "            x_ = np.linspace(0, 3*frames, 3*frames, endpoint=False)\n",
        "            y_ = interp1d(x, y, kind='quadratic', fill_value='extrapolate')(x_)\n",
        "            ws[:, i] = y_[frames:2*frames]\n",
        "        np.save(filename, ws)\n",
        "    else:\n",
        "        ws = np.load(filename)\n",
        "    return ws\n",
        "\n",
        "def lerp(v0, v1, t):\n",
        "    return v0*(1.0-t)+v1*t\n",
        "\n",
        "\n",
        "ends = generate_zs_from_seeds(seeds,Gs)\n",
        "ends_w = []\n",
        "\n",
        "for e in range(len(ends)):\n",
        "  ends_w.append(convertZtoW(ends[e],0.5))\n",
        "\n",
        "vectors = []\n",
        "for f in range(frames):\n",
        "  vectors.append(lerp(ends_w[0],ends_w[1],audio[track_name][f]))\n",
        "\n",
        "generate_images_in_w_space(vectors,truncation_value)\n"
      ],
      "execution_count": null,
      "outputs": [
        {
          "output_type": "stream",
          "name": "stdout",
          "text": [
            "--2022-05-27 00:30:09--  http://d36zk2xti64re0.cloudfront.net/stylegan2/networks/stylegan2-ffhq-config-f.pkl\n",
            "Resolving d36zk2xti64re0.cloudfront.net (d36zk2xti64re0.cloudfront.net)... 13.225.95.68, 13.225.95.89, 13.225.95.194, ...\n",
            "Connecting to d36zk2xti64re0.cloudfront.net (d36zk2xti64re0.cloudfront.net)|13.225.95.68|:80... connected.\n",
            "HTTP request sent, awaiting response... 200 OK\n",
            "Length: 381673535 (364M) [application/x-www-form-urlencoded]\n",
            "Saving to: ‘stylegan2-ffhq-config-f.pkl.1’\n",
            "\n",
            "stylegan2-ffhq-conf 100%[===================>] 363.99M  98.4MB/s    in 5.5s    \n",
            "\n",
            "2022-05-27 00:30:16 (66.1 MB/s) - ‘stylegan2-ffhq-config-f.pkl.1’ saved [381673535/381673535]\n",
            "\n",
            "Setting up TensorFlow plugin \"fused_bias_act.cu\": Preprocessing... Compiling... Loading... Done.\n",
            "Setting up TensorFlow plugin \"upfirdn_2d.cu\": Preprocessing... Compiling... Loading... Done.\n",
            "Generating image for step 0/7488 ...\n",
            "Generating image for step 1/7488 ...\n",
            "Generating image for step 2/7488 ...\n",
            "Generating image for step 3/7488 ...\n",
            "Generating image for step 4/7488 ...\n",
            "Generating image for step 5/7488 ...\n",
            "Generating image for step 6/7488 ...\n",
            "Generating image for step 7/7488 ...\n",
            "Generating image for step 8/7488 ...\n",
            "Generating image for step 9/7488 ...\n",
            "Generating image for step 10/7488 ...\n",
            "Generating image for step 11/7488 ...\n",
            "Generating image for step 12/7488 ...\n",
            "Generating image for step 13/7488 ...\n",
            "Generating image for step 14/7488 ...\n",
            "Generating image for step 15/7488 ...\n",
            "Generating image for step 16/7488 ...\n",
            "Generating image for step 17/7488 ...\n",
            "Generating image for step 18/7488 ...\n",
            "Generating image for step 19/7488 ...\n",
            "Generating image for step 20/7488 ...\n",
            "Generating image for step 21/7488 ...\n",
            "Generating image for step 22/7488 ...\n",
            "Generating image for step 23/7488 ...\n",
            "Generating image for step 24/7488 ...\n",
            "Generating image for step 25/7488 ...\n",
            "Generating image for step 26/7488 ...\n",
            "Generating image for step 27/7488 ...\n",
            "Generating image for step 28/7488 ...\n",
            "Generating image for step 29/7488 ...\n",
            "Generating image for step 30/7488 ...\n",
            "Generating image for step 31/7488 ...\n",
            "Generating image for step 32/7488 ...\n",
            "Generating image for step 33/7488 ...\n",
            "Generating image for step 34/7488 ...\n",
            "Generating image for step 35/7488 ...\n",
            "Generating image for step 36/7488 ...\n",
            "Generating image for step 37/7488 ...\n",
            "Generating image for step 38/7488 ...\n",
            "Generating image for step 39/7488 ...\n",
            "Generating image for step 40/7488 ...\n",
            "Generating image for step 41/7488 ...\n",
            "Generating image for step 42/7488 ...\n",
            "Generating image for step 43/7488 ...\n",
            "Generating image for step 44/7488 ...\n",
            "Generating image for step 45/7488 ...\n",
            "Generating image for step 46/7488 ...\n",
            "Generating image for step 47/7488 ...\n",
            "Generating image for step 48/7488 ...\n",
            "Generating image for step 49/7488 ...\n",
            "Generating image for step 50/7488 ...\n",
            "Generating image for step 51/7488 ...\n",
            "Generating image for step 52/7488 ...\n",
            "Generating image for step 53/7488 ...\n",
            "Generating image for step 54/7488 ...\n",
            "Generating image for step 55/7488 ...\n",
            "Generating image for step 56/7488 ...\n",
            "Generating image for step 57/7488 ...\n",
            "Generating image for step 58/7488 ...\n",
            "Generating image for step 59/7488 ...\n",
            "Generating image for step 60/7488 ...\n",
            "Generating image for step 61/7488 ...\n",
            "Generating image for step 62/7488 ...\n",
            "Generating image for step 63/7488 ...\n",
            "Generating image for step 64/7488 ...\n",
            "Generating image for step 65/7488 ...\n",
            "Generating image for step 66/7488 ...\n",
            "Generating image for step 67/7488 ...\n",
            "Generating image for step 68/7488 ...\n",
            "Generating image for step 69/7488 ...\n",
            "Generating image for step 70/7488 ...\n",
            "Generating image for step 71/7488 ...\n",
            "Generating image for step 72/7488 ...\n",
            "Generating image for step 73/7488 ...\n",
            "Generating image for step 74/7488 ...\n",
            "Generating image for step 75/7488 ...\n",
            "Generating image for step 76/7488 ...\n",
            "Generating image for step 77/7488 ...\n",
            "Generating image for step 78/7488 ...\n",
            "Generating image for step 79/7488 ...\n",
            "Generating image for step 80/7488 ...\n",
            "Generating image for step 81/7488 ...\n",
            "Generating image for step 82/7488 ...\n",
            "Generating image for step 83/7488 ...\n",
            "Generating image for step 84/7488 ...\n",
            "Generating image for step 85/7488 ...\n",
            "Generating image for step 86/7488 ...\n",
            "Generating image for step 87/7488 ...\n",
            "Generating image for step 88/7488 ...\n",
            "Generating image for step 89/7488 ...\n",
            "Generating image for step 90/7488 ...\n",
            "Generating image for step 91/7488 ...\n",
            "Generating image for step 92/7488 ...\n",
            "Generating image for step 93/7488 ...\n",
            "Generating image for step 94/7488 ...\n",
            "Generating image for step 95/7488 ...\n",
            "Generating image for step 96/7488 ...\n",
            "Generating image for step 97/7488 ...\n",
            "Generating image for step 98/7488 ...\n",
            "Generating image for step 99/7488 ...\n",
            "Generating image for step 100/7488 ...\n",
            "Generating image for step 101/7488 ...\n",
            "Generating image for step 102/7488 ...\n",
            "Generating image for step 103/7488 ...\n",
            "Generating image for step 104/7488 ...\n",
            "Generating image for step 105/7488 ...\n",
            "Generating image for step 106/7488 ...\n",
            "Generating image for step 107/7488 ...\n",
            "Generating image for step 108/7488 ...\n",
            "Generating image for step 109/7488 ...\n",
            "Generating image for step 110/7488 ...\n",
            "Generating image for step 111/7488 ...\n",
            "Generating image for step 112/7488 ...\n",
            "Generating image for step 113/7488 ...\n",
            "Generating image for step 114/7488 ...\n",
            "Generating image for step 115/7488 ...\n",
            "Generating image for step 116/7488 ...\n",
            "Generating image for step 117/7488 ...\n",
            "Generating image for step 118/7488 ...\n",
            "Generating image for step 119/7488 ...\n",
            "Generating image for step 120/7488 ...\n",
            "Generating image for step 121/7488 ...\n",
            "Generating image for step 122/7488 ...\n",
            "Generating image for step 123/7488 ...\n",
            "Generating image for step 124/7488 ...\n",
            "Generating image for step 125/7488 ...\n",
            "Generating image for step 126/7488 ...\n",
            "Generating image for step 127/7488 ...\n",
            "Generating image for step 128/7488 ...\n",
            "Generating image for step 129/7488 ...\n",
            "Generating image for step 130/7488 ...\n",
            "Generating image for step 131/7488 ...\n",
            "Generating image for step 132/7488 ...\n",
            "Generating image for step 133/7488 ...\n",
            "Generating image for step 134/7488 ...\n",
            "Generating image for step 135/7488 ...\n",
            "Generating image for step 136/7488 ...\n",
            "Generating image for step 137/7488 ...\n",
            "Generating image for step 138/7488 ...\n",
            "Generating image for step 139/7488 ...\n",
            "Generating image for step 140/7488 ...\n",
            "Generating image for step 141/7488 ...\n",
            "Generating image for step 142/7488 ...\n",
            "Generating image for step 143/7488 ...\n",
            "Generating image for step 144/7488 ...\n",
            "Generating image for step 145/7488 ...\n",
            "Generating image for step 146/7488 ...\n",
            "Generating image for step 147/7488 ...\n",
            "Generating image for step 148/7488 ...\n",
            "Generating image for step 149/7488 ...\n",
            "Generating image for step 150/7488 ...\n",
            "Generating image for step 151/7488 ...\n",
            "Generating image for step 152/7488 ...\n",
            "Generating image for step 153/7488 ...\n",
            "Generating image for step 154/7488 ...\n",
            "Generating image for step 155/7488 ...\n",
            "Generating image for step 156/7488 ...\n",
            "Generating image for step 157/7488 ...\n",
            "Generating image for step 158/7488 ...\n",
            "Generating image for step 159/7488 ...\n",
            "Generating image for step 160/7488 ...\n",
            "Generating image for step 161/7488 ...\n",
            "Generating image for step 162/7488 ...\n",
            "Generating image for step 163/7488 ...\n",
            "Generating image for step 164/7488 ...\n",
            "Generating image for step 165/7488 ...\n",
            "Generating image for step 166/7488 ...\n",
            "Generating image for step 167/7488 ...\n",
            "Generating image for step 168/7488 ...\n",
            "Generating image for step 169/7488 ...\n",
            "Generating image for step 170/7488 ...\n",
            "Generating image for step 171/7488 ...\n",
            "Generating image for step 172/7488 ...\n",
            "Generating image for step 173/7488 ...\n",
            "Generating image for step 174/7488 ...\n",
            "Generating image for step 175/7488 ...\n",
            "Generating image for step 176/7488 ...\n",
            "Generating image for step 177/7488 ...\n",
            "Generating image for step 178/7488 ...\n",
            "Generating image for step 179/7488 ...\n",
            "Generating image for step 180/7488 ...\n",
            "Generating image for step 181/7488 ...\n",
            "Generating image for step 182/7488 ...\n",
            "Generating image for step 183/7488 ...\n",
            "Generating image for step 184/7488 ...\n",
            "Generating image for step 185/7488 ...\n",
            "Generating image for step 186/7488 ...\n",
            "Generating image for step 187/7488 ...\n",
            "Generating image for step 188/7488 ...\n",
            "Generating image for step 189/7488 ...\n",
            "Generating image for step 190/7488 ...\n",
            "Generating image for step 191/7488 ...\n",
            "Generating image for step 192/7488 ...\n",
            "Generating image for step 193/7488 ...\n",
            "Generating image for step 194/7488 ...\n",
            "Generating image for step 195/7488 ...\n",
            "Generating image for step 196/7488 ...\n",
            "Generating image for step 197/7488 ...\n",
            "Generating image for step 198/7488 ...\n",
            "Generating image for step 199/7488 ...\n",
            "Generating image for step 200/7488 ...\n",
            "Generating image for step 201/7488 ...\n",
            "Generating image for step 202/7488 ...\n",
            "Generating image for step 203/7488 ...\n",
            "Generating image for step 204/7488 ...\n",
            "Generating image for step 205/7488 ...\n",
            "Generating image for step 206/7488 ...\n",
            "Generating image for step 207/7488 ...\n",
            "Generating image for step 208/7488 ...\n",
            "Generating image for step 209/7488 ...\n",
            "Generating image for step 210/7488 ...\n",
            "Generating image for step 211/7488 ...\n",
            "Generating image for step 212/7488 ...\n",
            "Generating image for step 213/7488 ...\n",
            "Generating image for step 214/7488 ...\n",
            "Generating image for step 215/7488 ...\n",
            "Generating image for step 216/7488 ...\n",
            "Generating image for step 217/7488 ...\n",
            "Generating image for step 218/7488 ...\n",
            "Generating image for step 219/7488 ...\n",
            "Generating image for step 220/7488 ...\n",
            "Generating image for step 221/7488 ...\n",
            "Generating image for step 222/7488 ...\n",
            "Generating image for step 223/7488 ...\n",
            "Generating image for step 224/7488 ...\n",
            "Generating image for step 225/7488 ...\n",
            "Generating image for step 226/7488 ...\n",
            "Generating image for step 227/7488 ...\n",
            "Generating image for step 228/7488 ...\n",
            "Generating image for step 229/7488 ...\n",
            "Generating image for step 230/7488 ...\n",
            "Generating image for step 231/7488 ...\n",
            "Generating image for step 232/7488 ...\n",
            "Generating image for step 233/7488 ...\n",
            "Generating image for step 234/7488 ...\n",
            "Generating image for step 235/7488 ...\n",
            "Generating image for step 236/7488 ...\n",
            "Generating image for step 237/7488 ...\n",
            "Generating image for step 238/7488 ...\n",
            "Generating image for step 239/7488 ...\n",
            "Generating image for step 240/7488 ...\n",
            "Generating image for step 241/7488 ...\n",
            "Generating image for step 242/7488 ...\n",
            "Generating image for step 243/7488 ...\n",
            "Generating image for step 244/7488 ...\n",
            "Generating image for step 245/7488 ...\n",
            "Generating image for step 246/7488 ...\n",
            "Generating image for step 247/7488 ...\n",
            "Generating image for step 248/7488 ...\n",
            "Generating image for step 249/7488 ...\n",
            "Generating image for step 250/7488 ...\n",
            "Generating image for step 251/7488 ...\n",
            "Generating image for step 252/7488 ...\n",
            "Generating image for step 253/7488 ...\n",
            "Generating image for step 254/7488 ...\n",
            "Generating image for step 255/7488 ...\n",
            "Generating image for step 256/7488 ...\n",
            "Generating image for step 257/7488 ...\n",
            "Generating image for step 258/7488 ...\n",
            "Generating image for step 259/7488 ...\n",
            "Generating image for step 260/7488 ...\n",
            "Generating image for step 261/7488 ...\n",
            "Generating image for step 262/7488 ...\n",
            "Generating image for step 263/7488 ...\n",
            "Generating image for step 264/7488 ...\n",
            "Generating image for step 265/7488 ...\n",
            "Generating image for step 266/7488 ...\n",
            "Generating image for step 267/7488 ...\n",
            "Generating image for step 268/7488 ...\n",
            "Generating image for step 269/7488 ...\n"
          ]
        }
      ]
    },
    {
      "cell_type": "markdown",
      "metadata": {
        "id": "tOkh2DZpV-9W"
      },
      "source": [
        "### Combine the frames into a video and add the audio track back to it\n",
        "\n",
        "There’s probably a cleaner way to do this all in moviepy but I’m being lazy."
      ]
    },
    {
      "cell_type": "code",
      "metadata": {
        "id": "dPClSNx_Atn-"
      },
      "source": [
        "!ffmpeg -r 60 -i /content/stylegan2/frames207518/frame%05d.png -vcodec libx264 -pix_fmt yuv420p /content/sound-react-volume.mp4"
      ],
      "execution_count": null,
      "outputs": []
    },
    {
      "cell_type": "code",
      "metadata": {
        "id": "R7TUwqrTi4y-",
        "outputId": "ddba0ddb-b154-4fbc-97de-3f282b67d987",
        "colab": {
          "base_uri": "https://localhost:8080/",
          "height": 170
        }
      },
      "source": [
        "mp4_filename = '../volume-lerp-test.mp4'\n",
        "# video_clip = moviepy.editor.VideoClip(render_frame, duration=duration)\n",
        "video_clip = moviepy.editor.VideoFileClip('/content/sound-react-volume.mp4')\n",
        "audio_clip_i = moviepy.editor.AudioFileClip('/content/stylegan2/pleasureisallmine_01-stereo.wav')\n",
        "video_clip = video_clip.set_audio(audio_clip_i)\n",
        "video_clip.write_videofile(mp4_filename, fps=fps, codec='libx264', audio_codec='aac', bitrate='8M')"
      ],
      "execution_count": null,
      "outputs": [
        {
          "output_type": "stream",
          "text": [
            "[MoviePy] >>>> Building video ../volume-lerp-test.mp4\n",
            "[MoviePy] Writing audio in volume-lerp-testTEMP_MPY_wvf_snd.mp4\n"
          ],
          "name": "stdout"
        },
        {
          "output_type": "stream",
          "text": [
            "100%|██████████| 128/128 [00:00<00:00, 709.41it/s]"
          ],
          "name": "stderr"
        },
        {
          "output_type": "stream",
          "text": [
            "[MoviePy] Done.\n",
            "[MoviePy] Writing video ../volume-lerp-test.mp4\n"
          ],
          "name": "stdout"
        },
        {
          "output_type": "stream",
          "text": [
            "\n",
            "100%|██████████| 347/347 [00:12<00:00, 27.43it/s]\n"
          ],
          "name": "stderr"
        },
        {
          "output_type": "stream",
          "text": [
            "[MoviePy] Done.\n",
            "[MoviePy] >>>> Video ready: ../volume-lerp-test.mp4 \n",
            "\n"
          ],
          "name": "stdout"
        }
      ]
    },
    {
      "cell_type": "markdown",
      "metadata": {
        "id": "ibDI8hGWWPD0"
      },
      "source": [
        "### Use Volume to control truncation\n",
        "In this example, we’ll use almost the same technique but use volume to change the truncation value. \n",
        "\n",
        "It’s helpful that both interpolation and truncation are essentially 0.0 to 1.0. This matches the volume signal’s output, but what if we wanted to alter it?"
      ]
    },
    {
      "cell_type": "code",
      "metadata": {
        "id": "ifbLsbOcXsgy"
      },
      "source": [
        "seeds=[10]\n",
        "\n",
        "seed_z = generate_zs_from_seeds(seeds,Gs)\n",
        "\n",
        "Gs_kwargs = dnnlib.EasyDict()\n",
        "Gs_kwargs.output_transform = dict(func=tflib.convert_images_to_uint8, nchw_to_nhwc=True)\n",
        "Gs_kwargs.randomize_noise = False\n",
        "\n",
        "rnd = np.random.RandomState(seeds[0])\n",
        "\n",
        "temp_dir = '%s-trunc_frames%06d'%(track_name,int(1000000*random.random()))\n",
        "os.system('mkdir %s'%temp_dir)\n",
        "\n",
        "for f in range(frames):\n",
        "  print('Rendering frame %d/%d ...' % (f,frames))\n",
        "  Gs_kwargs.truncation_psi = audio[track_name][f]\n",
        "  tflib.set_vars({var: rnd.randn(*var.shape.as_list()) for var in noise_vars}) # [height, width]\n",
        "  images = Gs.run(seed_z[0], None, **Gs_kwargs) # [minibatch, height, width, channel]\n",
        "  PIL.Image.fromarray(images[0], 'RGB').save('%s/frame%05d.png' % (temp_dir,f))"
      ],
      "execution_count": null,
      "outputs": []
    },
    {
      "cell_type": "code",
      "metadata": {
        "id": "gw3negi0e7ll"
      },
      "source": [
        "!ffmpeg -r 60 -i /content/stylegan2/AhCmonNowBaby-trunc_frames374288/frame%05d.png -vcodec libx264 -pix_fmt yuv420p /content/sound-truncation-volume.mp4"
      ],
      "execution_count": null,
      "outputs": []
    },
    {
      "cell_type": "code",
      "metadata": {
        "id": "g1AC2mF1bwKP",
        "outputId": "74ce416a-a387-41e6-f0f7-975779e82ed1",
        "colab": {
          "base_uri": "https://localhost:8080/",
          "height": 170
        }
      },
      "source": [
        "mp4_filename = '../volume-trunc-test-v2.mp4'\n",
        "# video_clip = moviepy.editor.VideoClip(render_frame, duration=duration)\n",
        "video_clip = moviepy.editor.VideoFileClip('/content/sound-truncation-volume.mp4')\n",
        "audio_clip_i = moviepy.editor.AudioFileClip('/content/stylegan2/AhCmonNowBaby.wav')\n",
        "video_clip = video_clip.set_audio(audio_clip_i)\n",
        "video_clip.write_videofile(mp4_filename, fps=fps, codec='libx264', audio_codec='aac', bitrate='8M')"
      ],
      "execution_count": null,
      "outputs": [
        {
          "output_type": "stream",
          "text": [
            "[MoviePy] >>>> Building video ../volume-trunc-test-v2.mp4\n",
            "[MoviePy] Writing audio in volume-trunc-test-v2TEMP_MPY_wvf_snd.mp4\n"
          ],
          "name": "stdout"
        },
        {
          "output_type": "stream",
          "text": [
            "100%|██████████| 28/28 [00:00<00:00, 2786.78it/s]"
          ],
          "name": "stderr"
        },
        {
          "output_type": "stream",
          "text": [
            "[MoviePy] Done.\n",
            "[MoviePy] Writing video ../volume-trunc-test-v2.mp4\n"
          ],
          "name": "stdout"
        },
        {
          "output_type": "stream",
          "text": [
            "\n",
            "100%|██████████| 77/77 [00:01<00:00, 39.76it/s]\n"
          ],
          "name": "stderr"
        },
        {
          "output_type": "stream",
          "text": [
            "[MoviePy] Done.\n",
            "[MoviePy] >>>> Video ready: ../volume-trunc-test-v2.mp4 \n",
            "\n"
          ],
          "name": "stdout"
        }
      ]
    },
    {
      "cell_type": "code",
      "metadata": {
        "id": "nR6VU8QJb4cB"
      },
      "source": [
        "seeds=[10]\n",
        "\n",
        "seed_z = generate_zs_from_seeds(seeds,Gs)\n",
        "\n",
        "Gs_kwargs = dnnlib.EasyDict()\n",
        "Gs_kwargs.output_transform = dict(func=tflib.convert_images_to_uint8, nchw_to_nhwc=True)\n",
        "Gs_kwargs.randomize_noise = False\n",
        "\n",
        "rnd = np.random.RandomState(seeds[0])\n",
        "temp_dir = '%s-trunc_frames%06d'%(track_name,int(1000000*random.random()))\n",
        "os.system('mkdir %s'%temp_dir)\n",
        "\n",
        "for f in range(frames):\n",
        "  print('Rendering frame %d/%d ...' % (f,frames))\n",
        "\n",
        "  #edit the next line to alter the volume signal\n",
        "  # new_truncation_value = audio[track_name][f]*2 #multiply by 2 (0.0 to 2.0 for volume signal/truncation value now)\n",
        "  new_truncation_value = (audio[track_name][f]-0.5)*2 #(-1.0 to 1.0 for volume signal/truncation value now)\n",
        "\n",
        "  Gs_kwargs.truncation_psi = new_truncation_value\n",
        "  tflib.set_vars({var: rnd.randn(*var.shape.as_list()) for var in noise_vars}) # [height, width]\n",
        "  images = Gs.run(seed_z[0], None, **Gs_kwargs) # [minibatch, height, width, channel]\n",
        "  PIL.Image.fromarray(images[0], 'RGB').save('%s/frame%05d.png' % (temp_dir,f))"
      ],
      "execution_count": null,
      "outputs": []
    },
    {
      "cell_type": "code",
      "metadata": {
        "id": "SRdc-crzdkDm"
      },
      "source": [
        "!ffmpeg -r 60 -i /content/stylegan2/pleasureisallmine_01-stereo-trunc_frames623374/frame%05d.png -vcodec libx264 -pix_fmt yuv420p /content/sound-truncation-volume.mp4"
      ],
      "execution_count": null,
      "outputs": []
    },
    {
      "cell_type": "code",
      "metadata": {
        "id": "hgezjUH3flxa",
        "outputId": "fa9db84f-4997-4323-a27b-c5cfb0fac2a3",
        "colab": {
          "base_uri": "https://localhost:8080/",
          "height": 170
        }
      },
      "source": [
        "mp4_filename = '../volume-trunc-test-v3.mp4'\n",
        "# video_clip = moviepy.editor.VideoClip(render_frame, duration=duration)\n",
        "video_clip = moviepy.editor.VideoFileClip('/content/sound-truncation-volume.mp4')\n",
        "audio_clip_i = moviepy.editor.AudioFileClip('/content/stylegan2/pleasureisallmine_01-stereo.wav')\n",
        "video_clip = video_clip.set_audio(audio_clip_i)\n",
        "video_clip.write_videofile(mp4_filename, fps=fps, codec='libx264', audio_codec='aac', bitrate='8M')"
      ],
      "execution_count": null,
      "outputs": [
        {
          "output_type": "stream",
          "text": [
            "[MoviePy] >>>> Building video ../volume-trunc-test-v3.mp4\n",
            "[MoviePy] Writing audio in volume-trunc-test-v3TEMP_MPY_wvf_snd.mp4\n"
          ],
          "name": "stdout"
        },
        {
          "output_type": "stream",
          "text": [
            "100%|██████████| 128/128 [00:00<00:00, 701.72it/s]"
          ],
          "name": "stderr"
        },
        {
          "output_type": "stream",
          "text": [
            "[MoviePy] Done.\n",
            "[MoviePy] Writing video ../volume-trunc-test-v3.mp4\n"
          ],
          "name": "stdout"
        },
        {
          "output_type": "stream",
          "text": [
            "\n",
            "100%|██████████| 347/347 [00:13<00:00, 25.16it/s]\n"
          ],
          "name": "stderr"
        },
        {
          "output_type": "stream",
          "text": [
            "[MoviePy] Done.\n",
            "[MoviePy] >>>> Video ready: ../volume-trunc-test-v3.mp4 \n",
            "\n"
          ],
          "name": "stdout"
        }
      ]
    },
    {
      "cell_type": "markdown",
      "metadata": {
        "id": "N_78NFCdqL68"
      },
      "source": [
        "## Using feature vectors\n",
        "\n",
        "Let’s look at an example using a feature vector. In this case we’ll just use the straight audio signal.\n",
        "\n",
        "Upload your feature vector to Colab and then reference it’s location with a variable."
      ]
    },
    {
      "cell_type": "code",
      "metadata": {
        "id": "Kl5w7TaLxldW",
        "colab": {
          "base_uri": "https://localhost:8080/",
          "height": 51
        },
        "outputId": "8328616c-95ef-4a20-cb35-7ba5c9e7baf6"
      },
      "source": [
        "network_pkl = \"/content/ffhq.pkl\"\n",
        "_G, _D, Gs = pretrained_networks.load_networks(network_pkl)\n",
        "\n",
        "Gs_kwargs = dnnlib.EasyDict()\n",
        "Gs_kwargs.output_transform = dict(func=tflib.convert_images_to_uint8, nchw_to_nhwc=True)\n",
        "Gs_kwargs.randomize_noise = False\n",
        "Gs_syn_kwargs = dnnlib.EasyDict()\n",
        "Gs_syn_kwargs.output_transform = dict(func=tflib.convert_images_to_uint8, nchw_to_nhwc=True)\n",
        "Gs_syn_kwargs.randomize_noise = False\n",
        "Gs_syn_kwargs.minibatch_size = 4\n",
        "noise_vars = [var for name, var in Gs.components.synthesis.vars.items() if name.startswith('noise')]\n",
        "w_avg = Gs.get_var('dlatent_avg')\n",
        "\n",
        "def generate_mov(seed, truncation, direction_vec, scale, n_frames, out_name = 'out', noise_spec = None, loop=True):\n",
        "  \"\"\"Generates a mov moving back and forth along the chosen direction vector\"\"\"\n",
        "  # Example of reading a generated set of images, and storing as MP4.\n",
        "  %mkdir out\n",
        "  movieName = f'out/{out_name}.mp4'\n",
        "  offset = -10\n",
        "  step = 20 / n_frames\n",
        "  imgs = []\n",
        "  for i in range(n_frames):\n",
        "    print(f'{i} / {n_frames}')\n",
        "    \n",
        "    \n",
        "    batch_size = 1\n",
        "    all_seeds = [seed] * batch_size\n",
        "    all_z = np.stack([np.random.RandomState(seed).randn(*Gs.input_shape[1:]) for seed in all_seeds]) # [minibatch, component]\n",
        "    all_w = Gs.components.mapping.run(all_z, None) # [minibatch, layer, component]\n",
        "    if truncation != 1:\n",
        "        w_avg = Gs.get_var('dlatent_avg')\n",
        "        all_w = w_avg + (all_w - w_avg) * truncation # [minibatch, layer, component]\n",
        "    all_w += direction_vec * offset * scale\n",
        "    all_images = Gs.components.synthesis.run(all_w, **Gs_syn_kwargs)\n",
        "    #save image and display\n",
        "    final_im = PIL.Image.fromarray(np.median(all_images, axis=0).astype(np.uint8))\n",
        "    imgs.append(final_im)\n",
        "    #increase offset\n",
        "    offset += step\n",
        "  if loop:\n",
        "    imgs += imgs[::-1]\n",
        "  with imageio.get_writer(movieName, mode='I') as writer:\n",
        "    for image in log_progress(list(imgs), name = \"Creating animation\"):\n",
        "        writer.append_data(np.array(image))"
      ],
      "execution_count": null,
      "outputs": [
        {
          "output_type": "stream",
          "text": [
            "Setting up TensorFlow plugin \"fused_bias_act.cu\": Preprocessing... Compiling... Loading... Done.\n",
            "Setting up TensorFlow plugin \"upfirdn_2d.cu\": Preprocessing... Compiling... Loading... Done.\n"
          ],
          "name": "stdout"
        }
      ]
    },
    {
      "cell_type": "code",
      "metadata": {
        "id": "PA40ehfqy2S2",
        "colab": {
          "base_uri": "https://localhost:8080/",
          "height": 1000
        },
        "outputId": "1779527c-723c-4748-d6f2-72aac913965e"
      },
      "source": [
        "seed = 10 # starting seed (will appear at 0.5)\n",
        "truncation = 0.7\n",
        "feature = '/content/profile-c2.npy'\n",
        "feature_range = 2 # feature_range maps the range of change in features \n",
        "scale = 1 # scale multiples the strength of the feature (1 is prob fine)\n",
        "\n",
        "#-------------------\n",
        "\n",
        "Gs_kwargs = dnnlib.EasyDict()\n",
        "Gs_kwargs.output_transform = dict(func=tflib.convert_images_to_uint8, nchw_to_nhwc=True)\n",
        "Gs_kwargs.randomize_noise = False\n",
        "if truncation is not None:\n",
        "  Gs_kwargs.truncation_psi = truncation\n",
        "tflib.set_vars({var: rnd.randn(*var.shape.as_list()) for var in noise_vars}) # [height, width]\n",
        "w_avg = Gs.get_var('dlatent_avg')\n",
        "\n",
        "# get starting z and w\n",
        "rnd = np.random.RandomState(seed)\n",
        "z = rnd.randn(1, *Gs.input_shape[1:])\n",
        "w = Gs.components.mapping.run(z, None)\n",
        "\n",
        "# make dir\n",
        "feature_name=os.path.basename(feature)[:-4] \n",
        "dir = '%s_%s_range%02d_seed%05d'%(track_name,feature_name,feature_range,seed)\n",
        "os.system('mkdir %s'%dir)\n",
        "\n",
        "# setup\n",
        "feature_vec = np.load(feature)\n",
        "min_range = -feature_range\n",
        "max_range = feature_range\n",
        "offset = min_range #start value\n",
        "\n",
        "#generate frames\n",
        "for f in range(frames):\n",
        "  print('Rendering frame %d/%d ...' % (f,frames))\n",
        "\n",
        "  if truncation != 1:\n",
        "    w = w_avg + (w - w_avg) * truncation # [minibatch, layer, component]\n",
        "  \n",
        "  w += feature_vec * offset * scale\n",
        "\n",
        "  #save image and display\n",
        "  image = Gs.components.synthesis.run(w, **Gs_syn_kwargs)\n",
        "  PIL.Image.fromarray(image[0],'RGB').save('%s/frame%05d.png' % (dir,f))\n",
        "  \n",
        "  #increase offset\n",
        "  offset = lerp( min_range,max_range,audio[track_name][f] )\n",
        "\n",
        "  "
      ],
      "execution_count": null,
      "outputs": [
        {
          "output_type": "stream",
          "text": [
            "Rendering frame 0/346 ...\n",
            "Rendering frame 1/346 ...\n",
            "Rendering frame 2/346 ...\n",
            "Rendering frame 3/346 ...\n",
            "Rendering frame 4/346 ...\n",
            "Rendering frame 5/346 ...\n",
            "Rendering frame 6/346 ...\n",
            "Rendering frame 7/346 ...\n",
            "Rendering frame 8/346 ...\n",
            "Rendering frame 9/346 ...\n",
            "Rendering frame 10/346 ...\n",
            "Rendering frame 11/346 ...\n",
            "Rendering frame 12/346 ...\n",
            "Rendering frame 13/346 ...\n",
            "Rendering frame 14/346 ...\n",
            "Rendering frame 15/346 ...\n",
            "Rendering frame 16/346 ...\n",
            "Rendering frame 17/346 ...\n",
            "Rendering frame 18/346 ...\n",
            "Rendering frame 19/346 ...\n",
            "Rendering frame 20/346 ...\n",
            "Rendering frame 21/346 ...\n",
            "Rendering frame 22/346 ...\n",
            "Rendering frame 23/346 ...\n",
            "Rendering frame 24/346 ...\n",
            "Rendering frame 25/346 ...\n",
            "Rendering frame 26/346 ...\n",
            "Rendering frame 27/346 ...\n",
            "Rendering frame 28/346 ...\n",
            "Rendering frame 29/346 ...\n",
            "Rendering frame 30/346 ...\n",
            "Rendering frame 31/346 ...\n",
            "Rendering frame 32/346 ...\n",
            "Rendering frame 33/346 ...\n",
            "Rendering frame 34/346 ...\n",
            "Rendering frame 35/346 ...\n",
            "Rendering frame 36/346 ...\n",
            "Rendering frame 37/346 ...\n",
            "Rendering frame 38/346 ...\n",
            "Rendering frame 39/346 ...\n",
            "Rendering frame 40/346 ...\n",
            "Rendering frame 41/346 ...\n",
            "Rendering frame 42/346 ...\n",
            "Rendering frame 43/346 ...\n",
            "Rendering frame 44/346 ...\n",
            "Rendering frame 45/346 ...\n",
            "Rendering frame 46/346 ...\n",
            "Rendering frame 47/346 ...\n",
            "Rendering frame 48/346 ...\n",
            "Rendering frame 49/346 ...\n",
            "Rendering frame 50/346 ...\n",
            "Rendering frame 51/346 ...\n",
            "Rendering frame 52/346 ...\n",
            "Rendering frame 53/346 ...\n",
            "Rendering frame 54/346 ...\n",
            "Rendering frame 55/346 ...\n",
            "Rendering frame 56/346 ...\n",
            "Rendering frame 57/346 ...\n",
            "Rendering frame 58/346 ...\n",
            "Rendering frame 59/346 ...\n",
            "Rendering frame 60/346 ...\n",
            "Rendering frame 61/346 ...\n",
            "Rendering frame 62/346 ...\n",
            "Rendering frame 63/346 ...\n",
            "Rendering frame 64/346 ...\n",
            "Rendering frame 65/346 ...\n",
            "Rendering frame 66/346 ...\n",
            "Rendering frame 67/346 ...\n",
            "Rendering frame 68/346 ...\n",
            "Rendering frame 69/346 ...\n",
            "Rendering frame 70/346 ...\n",
            "Rendering frame 71/346 ...\n",
            "Rendering frame 72/346 ...\n",
            "Rendering frame 73/346 ...\n",
            "Rendering frame 74/346 ...\n",
            "Rendering frame 75/346 ...\n",
            "Rendering frame 76/346 ...\n",
            "Rendering frame 77/346 ...\n",
            "Rendering frame 78/346 ...\n",
            "Rendering frame 79/346 ...\n",
            "Rendering frame 80/346 ...\n",
            "Rendering frame 81/346 ...\n",
            "Rendering frame 82/346 ...\n",
            "Rendering frame 83/346 ...\n",
            "Rendering frame 84/346 ...\n",
            "Rendering frame 85/346 ...\n",
            "Rendering frame 86/346 ...\n",
            "Rendering frame 87/346 ...\n",
            "Rendering frame 88/346 ...\n",
            "Rendering frame 89/346 ...\n",
            "Rendering frame 90/346 ...\n",
            "Rendering frame 91/346 ...\n",
            "Rendering frame 92/346 ...\n",
            "Rendering frame 93/346 ...\n",
            "Rendering frame 94/346 ...\n",
            "Rendering frame 95/346 ...\n",
            "Rendering frame 96/346 ...\n",
            "Rendering frame 97/346 ...\n",
            "Rendering frame 98/346 ...\n",
            "Rendering frame 99/346 ...\n",
            "Rendering frame 100/346 ...\n",
            "Rendering frame 101/346 ...\n",
            "Rendering frame 102/346 ...\n",
            "Rendering frame 103/346 ...\n",
            "Rendering frame 104/346 ...\n",
            "Rendering frame 105/346 ...\n",
            "Rendering frame 106/346 ...\n",
            "Rendering frame 107/346 ...\n",
            "Rendering frame 108/346 ...\n",
            "Rendering frame 109/346 ...\n",
            "Rendering frame 110/346 ...\n",
            "Rendering frame 111/346 ...\n",
            "Rendering frame 112/346 ...\n",
            "Rendering frame 113/346 ...\n",
            "Rendering frame 114/346 ...\n",
            "Rendering frame 115/346 ...\n",
            "Rendering frame 116/346 ...\n",
            "Rendering frame 117/346 ...\n",
            "Rendering frame 118/346 ...\n",
            "Rendering frame 119/346 ...\n",
            "Rendering frame 120/346 ...\n",
            "Rendering frame 121/346 ...\n",
            "Rendering frame 122/346 ...\n",
            "Rendering frame 123/346 ...\n",
            "Rendering frame 124/346 ...\n",
            "Rendering frame 125/346 ...\n",
            "Rendering frame 126/346 ...\n",
            "Rendering frame 127/346 ...\n",
            "Rendering frame 128/346 ...\n",
            "Rendering frame 129/346 ...\n",
            "Rendering frame 130/346 ...\n",
            "Rendering frame 131/346 ...\n",
            "Rendering frame 132/346 ...\n",
            "Rendering frame 133/346 ...\n",
            "Rendering frame 134/346 ...\n",
            "Rendering frame 135/346 ...\n",
            "Rendering frame 136/346 ...\n",
            "Rendering frame 137/346 ...\n",
            "Rendering frame 138/346 ...\n",
            "Rendering frame 139/346 ...\n",
            "Rendering frame 140/346 ...\n",
            "Rendering frame 141/346 ...\n",
            "Rendering frame 142/346 ...\n",
            "Rendering frame 143/346 ...\n",
            "Rendering frame 144/346 ...\n",
            "Rendering frame 145/346 ...\n",
            "Rendering frame 146/346 ...\n",
            "Rendering frame 147/346 ...\n",
            "Rendering frame 148/346 ...\n",
            "Rendering frame 149/346 ...\n",
            "Rendering frame 150/346 ...\n",
            "Rendering frame 151/346 ...\n",
            "Rendering frame 152/346 ...\n",
            "Rendering frame 153/346 ...\n",
            "Rendering frame 154/346 ...\n",
            "Rendering frame 155/346 ...\n",
            "Rendering frame 156/346 ...\n",
            "Rendering frame 157/346 ...\n",
            "Rendering frame 158/346 ...\n",
            "Rendering frame 159/346 ...\n",
            "Rendering frame 160/346 ...\n",
            "Rendering frame 161/346 ...\n",
            "Rendering frame 162/346 ...\n",
            "Rendering frame 163/346 ...\n",
            "Rendering frame 164/346 ...\n",
            "Rendering frame 165/346 ...\n",
            "Rendering frame 166/346 ...\n",
            "Rendering frame 167/346 ...\n",
            "Rendering frame 168/346 ...\n",
            "Rendering frame 169/346 ...\n",
            "Rendering frame 170/346 ...\n",
            "Rendering frame 171/346 ...\n",
            "Rendering frame 172/346 ...\n",
            "Rendering frame 173/346 ...\n",
            "Rendering frame 174/346 ...\n",
            "Rendering frame 175/346 ...\n",
            "Rendering frame 176/346 ...\n",
            "Rendering frame 177/346 ...\n",
            "Rendering frame 178/346 ...\n",
            "Rendering frame 179/346 ...\n",
            "Rendering frame 180/346 ...\n",
            "Rendering frame 181/346 ...\n",
            "Rendering frame 182/346 ...\n",
            "Rendering frame 183/346 ...\n",
            "Rendering frame 184/346 ...\n",
            "Rendering frame 185/346 ...\n",
            "Rendering frame 186/346 ...\n",
            "Rendering frame 187/346 ...\n",
            "Rendering frame 188/346 ...\n",
            "Rendering frame 189/346 ...\n",
            "Rendering frame 190/346 ...\n",
            "Rendering frame 191/346 ...\n",
            "Rendering frame 192/346 ...\n",
            "Rendering frame 193/346 ...\n",
            "Rendering frame 194/346 ...\n",
            "Rendering frame 195/346 ...\n",
            "Rendering frame 196/346 ...\n",
            "Rendering frame 197/346 ...\n",
            "Rendering frame 198/346 ...\n",
            "Rendering frame 199/346 ...\n",
            "Rendering frame 200/346 ...\n",
            "Rendering frame 201/346 ...\n",
            "Rendering frame 202/346 ...\n",
            "Rendering frame 203/346 ...\n",
            "Rendering frame 204/346 ...\n",
            "Rendering frame 205/346 ...\n",
            "Rendering frame 206/346 ...\n",
            "Rendering frame 207/346 ...\n",
            "Rendering frame 208/346 ...\n",
            "Rendering frame 209/346 ...\n",
            "Rendering frame 210/346 ...\n",
            "Rendering frame 211/346 ...\n",
            "Rendering frame 212/346 ...\n",
            "Rendering frame 213/346 ...\n",
            "Rendering frame 214/346 ...\n",
            "Rendering frame 215/346 ...\n",
            "Rendering frame 216/346 ...\n",
            "Rendering frame 217/346 ...\n",
            "Rendering frame 218/346 ...\n",
            "Rendering frame 219/346 ...\n",
            "Rendering frame 220/346 ...\n",
            "Rendering frame 221/346 ...\n",
            "Rendering frame 222/346 ...\n",
            "Rendering frame 223/346 ...\n",
            "Rendering frame 224/346 ...\n",
            "Rendering frame 225/346 ...\n",
            "Rendering frame 226/346 ...\n",
            "Rendering frame 227/346 ...\n",
            "Rendering frame 228/346 ...\n",
            "Rendering frame 229/346 ...\n",
            "Rendering frame 230/346 ...\n",
            "Rendering frame 231/346 ...\n",
            "Rendering frame 232/346 ...\n",
            "Rendering frame 233/346 ...\n",
            "Rendering frame 234/346 ...\n",
            "Rendering frame 235/346 ...\n",
            "Rendering frame 236/346 ...\n",
            "Rendering frame 237/346 ...\n",
            "Rendering frame 238/346 ...\n",
            "Rendering frame 239/346 ...\n",
            "Rendering frame 240/346 ...\n",
            "Rendering frame 241/346 ...\n",
            "Rendering frame 242/346 ...\n",
            "Rendering frame 243/346 ...\n",
            "Rendering frame 244/346 ...\n",
            "Rendering frame 245/346 ...\n",
            "Rendering frame 246/346 ...\n",
            "Rendering frame 247/346 ...\n",
            "Rendering frame 248/346 ...\n",
            "Rendering frame 249/346 ...\n",
            "Rendering frame 250/346 ...\n",
            "Rendering frame 251/346 ...\n",
            "Rendering frame 252/346 ...\n",
            "Rendering frame 253/346 ...\n",
            "Rendering frame 254/346 ...\n",
            "Rendering frame 255/346 ...\n",
            "Rendering frame 256/346 ...\n",
            "Rendering frame 257/346 ...\n",
            "Rendering frame 258/346 ...\n",
            "Rendering frame 259/346 ...\n",
            "Rendering frame 260/346 ...\n",
            "Rendering frame 261/346 ...\n",
            "Rendering frame 262/346 ...\n",
            "Rendering frame 263/346 ...\n",
            "Rendering frame 264/346 ...\n",
            "Rendering frame 265/346 ...\n",
            "Rendering frame 266/346 ...\n",
            "Rendering frame 267/346 ...\n",
            "Rendering frame 268/346 ...\n",
            "Rendering frame 269/346 ...\n",
            "Rendering frame 270/346 ...\n",
            "Rendering frame 271/346 ...\n",
            "Rendering frame 272/346 ...\n",
            "Rendering frame 273/346 ...\n",
            "Rendering frame 274/346 ...\n",
            "Rendering frame 275/346 ...\n",
            "Rendering frame 276/346 ...\n",
            "Rendering frame 277/346 ...\n",
            "Rendering frame 278/346 ...\n",
            "Rendering frame 279/346 ...\n",
            "Rendering frame 280/346 ...\n",
            "Rendering frame 281/346 ...\n",
            "Rendering frame 282/346 ...\n",
            "Rendering frame 283/346 ...\n",
            "Rendering frame 284/346 ...\n",
            "Rendering frame 285/346 ...\n",
            "Rendering frame 286/346 ...\n",
            "Rendering frame 287/346 ...\n",
            "Rendering frame 288/346 ...\n",
            "Rendering frame 289/346 ...\n",
            "Rendering frame 290/346 ...\n",
            "Rendering frame 291/346 ...\n",
            "Rendering frame 292/346 ...\n",
            "Rendering frame 293/346 ...\n",
            "Rendering frame 294/346 ...\n",
            "Rendering frame 295/346 ...\n",
            "Rendering frame 296/346 ...\n",
            "Rendering frame 297/346 ...\n",
            "Rendering frame 298/346 ...\n",
            "Rendering frame 299/346 ...\n",
            "Rendering frame 300/346 ...\n",
            "Rendering frame 301/346 ...\n",
            "Rendering frame 302/346 ...\n",
            "Rendering frame 303/346 ...\n",
            "Rendering frame 304/346 ...\n",
            "Rendering frame 305/346 ...\n",
            "Rendering frame 306/346 ...\n",
            "Rendering frame 307/346 ...\n",
            "Rendering frame 308/346 ...\n",
            "Rendering frame 309/346 ...\n",
            "Rendering frame 310/346 ...\n",
            "Rendering frame 311/346 ...\n",
            "Rendering frame 312/346 ...\n",
            "Rendering frame 313/346 ...\n",
            "Rendering frame 314/346 ...\n",
            "Rendering frame 315/346 ...\n",
            "Rendering frame 316/346 ...\n",
            "Rendering frame 317/346 ...\n",
            "Rendering frame 318/346 ...\n",
            "Rendering frame 319/346 ...\n",
            "Rendering frame 320/346 ...\n",
            "Rendering frame 321/346 ...\n",
            "Rendering frame 322/346 ...\n",
            "Rendering frame 323/346 ...\n",
            "Rendering frame 324/346 ...\n",
            "Rendering frame 325/346 ...\n",
            "Rendering frame 326/346 ...\n",
            "Rendering frame 327/346 ...\n",
            "Rendering frame 328/346 ...\n",
            "Rendering frame 329/346 ...\n",
            "Rendering frame 330/346 ...\n",
            "Rendering frame 331/346 ...\n",
            "Rendering frame 332/346 ...\n",
            "Rendering frame 333/346 ...\n",
            "Rendering frame 334/346 ...\n",
            "Rendering frame 335/346 ...\n",
            "Rendering frame 336/346 ...\n",
            "Rendering frame 337/346 ...\n",
            "Rendering frame 338/346 ...\n",
            "Rendering frame 339/346 ...\n",
            "Rendering frame 340/346 ...\n",
            "Rendering frame 341/346 ...\n",
            "Rendering frame 342/346 ...\n",
            "Rendering frame 343/346 ...\n",
            "Rendering frame 344/346 ...\n",
            "Rendering frame 345/346 ...\n"
          ],
          "name": "stdout"
        }
      ]
    },
    {
      "cell_type": "code",
      "metadata": {
        "id": "Hbk-mwtQ2oWj",
        "colab": {
          "base_uri": "https://localhost:8080/",
          "height": 1000
        },
        "outputId": "8a11180f-699a-4cde-b4b1-e6cea514cbf4"
      },
      "source": [
        "!ffmpeg -r 60 -i /content/stylegan2/pleasureisallmine_01-stereo_profile-c2_range02_seed00010/frame%05d.png -vcodec libx264 -pix_fmt yuv420p /content/sound-feature-volume-range2.mp4"
      ],
      "execution_count": null,
      "outputs": [
        {
          "output_type": "stream",
          "text": [
            "ffmpeg version 3.4.6-0ubuntu0.18.04.1 Copyright (c) 2000-2019 the FFmpeg developers\n",
            "  built with gcc 7 (Ubuntu 7.3.0-16ubuntu3)\n",
            "  configuration: --prefix=/usr --extra-version=0ubuntu0.18.04.1 --toolchain=hardened --libdir=/usr/lib/x86_64-linux-gnu --incdir=/usr/include/x86_64-linux-gnu --enable-gpl --disable-stripping --enable-avresample --enable-avisynth --enable-gnutls --enable-ladspa --enable-libass --enable-libbluray --enable-libbs2b --enable-libcaca --enable-libcdio --enable-libflite --enable-libfontconfig --enable-libfreetype --enable-libfribidi --enable-libgme --enable-libgsm --enable-libmp3lame --enable-libmysofa --enable-libopenjpeg --enable-libopenmpt --enable-libopus --enable-libpulse --enable-librubberband --enable-librsvg --enable-libshine --enable-libsnappy --enable-libsoxr --enable-libspeex --enable-libssh --enable-libtheora --enable-libtwolame --enable-libvorbis --enable-libvpx --enable-libwavpack --enable-libwebp --enable-libx265 --enable-libxml2 --enable-libxvid --enable-libzmq --enable-libzvbi --enable-omx --enable-openal --enable-opengl --enable-sdl2 --enable-libdc1394 --enable-libdrm --enable-libiec61883 --enable-chromaprint --enable-frei0r --enable-libopencv --enable-libx264 --enable-shared\n",
            "  libavutil      55. 78.100 / 55. 78.100\n",
            "  libavcodec     57.107.100 / 57.107.100\n",
            "  libavformat    57. 83.100 / 57. 83.100\n",
            "  libavdevice    57. 10.100 / 57. 10.100\n",
            "  libavfilter     6.107.100 /  6.107.100\n",
            "  libavresample   3.  7.  0 /  3.  7.  0\n",
            "  libswscale      4.  8.100 /  4.  8.100\n",
            "  libswresample   2.  9.100 /  2.  9.100\n",
            "  libpostproc    54.  7.100 / 54.  7.100\n",
            "Input #0, image2, from '/content/stylegan2/pleasureisallmine_01-stereo_profile-c2_range02_seed00010/frame%05d.png':\n",
            "  Duration: 00:00:13.84, start: 0.000000, bitrate: N/A\n",
            "    Stream #0:0: Video: png, rgb24(pc), 1024x1024, 25 fps, 25 tbr, 25 tbn, 25 tbc\n",
            "Stream mapping:\n",
            "  Stream #0:0 -> #0:0 (png (native) -> h264 (libx264))\n",
            "Press [q] to stop, [?] for help\n",
            "\u001b[1;36m[libx264 @ 0x55bcdd5bfe00] \u001b[0musing cpu capabilities: MMX2 SSE2Fast SSSE3 SSE4.2 AVX FMA3 BMI2 AVX2\n",
            "\u001b[1;36m[libx264 @ 0x55bcdd5bfe00] \u001b[0mprofile High, level 4.0\n",
            "\u001b[1;36m[libx264 @ 0x55bcdd5bfe00] \u001b[0m264 - core 152 r2854 e9a5903 - H.264/MPEG-4 AVC codec - Copyleft 2003-2017 - http://www.videolan.org/x264.html - options: cabac=1 ref=3 deblock=1:0:0 analyse=0x3:0x113 me=hex subme=7 psy=1 psy_rd=1.00:0.00 mixed_ref=1 me_range=16 chroma_me=1 trellis=1 8x8dct=1 cqm=0 deadzone=21,11 fast_pskip=1 chroma_qp_offset=-2 threads=6 lookahead_threads=1 sliced_threads=0 nr=0 decimate=1 interlaced=0 bluray_compat=0 constrained_intra=0 bframes=3 b_pyramid=2 b_adapt=1 b_bias=0 direct=1 weightb=1 open_gop=0 weightp=2 keyint=250 keyint_min=25 scenecut=40 intra_refresh=0 rc_lookahead=40 rc=crf mbtree=1 crf=23.0 qcomp=0.60 qpmin=0 qpmax=69 qpstep=4 ip_ratio=1.40 aq=1:1.00\n",
            "Output #0, mp4, to '/content/sound-feature-volume-range2.mp4':\n",
            "  Metadata:\n",
            "    encoder         : Lavf57.83.100\n",
            "    Stream #0:0: Video: h264 (libx264) (avc1 / 0x31637661), yuv420p, 1024x1024, q=-1--1, 60 fps, 15360 tbn, 60 tbc\n",
            "    Metadata:\n",
            "      encoder         : Lavc57.107.100 libx264\n",
            "    Side data:\n",
            "      cpb: bitrate max/min/avg: 0/0/0 buffer size: 0 vbv_delay: -1\n",
            "\u001b[0;33mPast duration 0.999992 too large\n",
            "    Last message repeated 37 times\n",
            "\u001b[0;33mPast duration 0.999992 too large\n",
            "    Last message repeated 8 times\n",
            "\u001b[0;33mPast duration 0.999992 too large\n",
            "    Last message repeated 7 times\n",
            "\u001b[0;33mPast duration 0.999992 too large\n",
            "    Last message repeated 14 times\n",
            "\u001b[0;33mPast duration 0.999992 too large\n",
            "    Last message repeated 8 times\n",
            "\u001b[0;33mPast duration 0.999992 too large\n",
            "    Last message repeated 9 times\n",
            "\u001b[0;33mPast duration 0.999992 too large\n",
            "    Last message repeated 10 times\n",
            "\u001b[0;33mPast duration 0.999992 too large\n",
            "    Last message repeated 10 times\n",
            "\u001b[0;33mPast duration 0.999992 too large\n",
            "    Last message repeated 9 times\n",
            "\u001b[0;33mPast duration 0.999992 too large\n",
            "    Last message repeated 13 times\n",
            "\u001b[0;33mPast duration 0.999992 too large\n",
            "    Last message repeated 6 times\n",
            "\u001b[0;33mPast duration 0.999992 too large\n",
            "    Last message repeated 10 times\n",
            "\u001b[0;33mPast duration 0.999992 too large\n",
            "    Last message repeated 8 times\n",
            "\u001b[0;33mPast duration 0.999992 too large\n",
            "    Last message repeated 11 times\n",
            "\u001b[0;33mPast duration 0.999992 too large\n",
            "    Last message repeated 12 times\n",
            "\u001b[0;33mPast duration 0.999992 too large\n",
            "    Last message repeated 11 times\n",
            "\u001b[0;33mPast duration 0.999992 too large\n",
            "    Last message repeated 12 times\n",
            "\u001b[0;33mPast duration 0.999992 too large\n",
            "    Last message repeated 10 times\n",
            "\u001b[0;33mPast duration 0.999992 too large\n",
            "    Last message repeated 12 times\n",
            "\u001b[0;33mPast duration 0.999992 too large\n",
            "    Last message repeated 10 times\n",
            "\u001b[0;33mPast duration 0.999992 too large\n",
            "    Last message repeated 9 times\n",
            "\u001b[0;33mPast duration 0.999992 too large\n",
            "    Last message repeated 14 times\n",
            "\u001b[0;33mPast duration 0.999992 too large\n",
            "    Last message repeated 12 times\n",
            "\u001b[0;33mPast duration 0.999992 too large\n",
            "    Last message repeated 11 times\n",
            "\u001b[0;33mPast duration 0.999992 too large\n",
            "    Last message repeated 11 times\n",
            "\u001b[0;33mPast duration 0.999992 too large\n",
            "    Last message repeated 11 times\n",
            "\u001b[0;33mPast duration 0.999992 too large\n",
            "    Last message repeated 13 times\n",
            "\u001b[0;33mPast duration 0.999992 too large\n",
            "    Last message repeated 9 times\n",
            "frame=  347 fps= 20 q=-1.0 Lsize=    2824kB time=00:00:05.73 bitrate=4035.2kbits/s dup=1 drop=0 speed=0.338x    \n",
            "video:2819kB audio:0kB subtitle:0kB other streams:0kB global headers:0kB muxing overhead: 0.164314%\n",
            "\u001b[1;36m[libx264 @ 0x55bcdd5bfe00] \u001b[0mframe I:4     Avg QP:26.45  size: 37478\n",
            "\u001b[1;36m[libx264 @ 0x55bcdd5bfe00] \u001b[0mframe P:117   Avg QP:26.07  size: 13615\n",
            "\u001b[1;36m[libx264 @ 0x55bcdd5bfe00] \u001b[0mframe B:226   Avg QP:28.91  size:  5060\n",
            "\u001b[1;36m[libx264 @ 0x55bcdd5bfe00] \u001b[0mconsecutive B-frames:  9.2%  5.8% 18.2% 66.9%\n",
            "\u001b[1;36m[libx264 @ 0x55bcdd5bfe00] \u001b[0mmb I  I16..4: 11.8% 74.7% 13.4%\n",
            "\u001b[1;36m[libx264 @ 0x55bcdd5bfe00] \u001b[0mmb P  I16..4:  4.5% 12.4%  1.6%  P16..4: 34.6%  6.5%  4.0%  0.0%  0.0%    skip:36.5%\n",
            "\u001b[1;36m[libx264 @ 0x55bcdd5bfe00] \u001b[0mmb B  I16..4:  0.9%  2.0%  0.2%  B16..8: 26.1%  2.5%  0.5%  direct: 3.2%  skip:64.7%  L0:47.0% L1:49.1% BI: 3.9%\n",
            "\u001b[1;36m[libx264 @ 0x55bcdd5bfe00] \u001b[0m8x8 transform intra:67.6% inter:81.3%\n",
            "\u001b[1;36m[libx264 @ 0x55bcdd5bfe00] \u001b[0mcoded y,uvDC,uvAC intra: 51.9% 42.3% 3.2% inter: 13.5% 10.0% 0.0%\n",
            "\u001b[1;36m[libx264 @ 0x55bcdd5bfe00] \u001b[0mi16 v,h,dc,p: 24% 20% 11% 45%\n",
            "\u001b[1;36m[libx264 @ 0x55bcdd5bfe00] \u001b[0mi8 v,h,dc,ddl,ddr,vr,hd,vl,hu: 18%  9% 17%  7% 11% 13%  8% 11%  6%\n",
            "\u001b[1;36m[libx264 @ 0x55bcdd5bfe00] \u001b[0mi4 v,h,dc,ddl,ddr,vr,hd,vl,hu: 23%  9% 11%  7% 17% 13% 10%  8%  4%\n",
            "\u001b[1;36m[libx264 @ 0x55bcdd5bfe00] \u001b[0mi8c dc,h,v,p: 62% 13% 21%  4%\n",
            "\u001b[1;36m[libx264 @ 0x55bcdd5bfe00] \u001b[0mWeighted P-Frames: Y:29.9% UV:7.7%\n",
            "\u001b[1;36m[libx264 @ 0x55bcdd5bfe00] \u001b[0mref P L0: 51.7% 22.0% 14.3%  5.5%  6.5%\n",
            "\u001b[1;36m[libx264 @ 0x55bcdd5bfe00] \u001b[0mref B L0: 66.3% 22.9% 10.8%\n",
            "\u001b[1;36m[libx264 @ 0x55bcdd5bfe00] \u001b[0mref B L1: 89.3% 10.7%\n",
            "\u001b[1;36m[libx264 @ 0x55bcdd5bfe00] \u001b[0mkb/s:3992.80\n"
          ],
          "name": "stdout"
        }
      ]
    },
    {
      "cell_type": "code",
      "metadata": {
        "id": "JnoVg2o0AE3_",
        "colab": {
          "base_uri": "https://localhost:8080/",
          "height": 170
        },
        "outputId": "70604c5d-6f71-4e47-b6df-a87ef1b3906d"
      },
      "source": [
        "mp4_filename = '../volume-feature-test-range2.mp4'\n",
        "# video_clip = moviepy.editor.VideoClip(render_frame, duration=duration)\n",
        "video_clip = moviepy.editor.VideoFileClip('/content/sound-feature-volume-range2.mp4')\n",
        "audio_clip_i = moviepy.editor.AudioFileClip('/content/stylegan2/pleasureisallmine_01-stereo.wav')\n",
        "video_clip = video_clip.set_audio(audio_clip_i)\n",
        "video_clip.write_videofile(mp4_filename, fps=fps, codec='libx264', audio_codec='aac', bitrate='8M')"
      ],
      "execution_count": null,
      "outputs": [
        {
          "output_type": "stream",
          "text": [
            "[MoviePy] >>>> Building video ../volume-feature-test-range2.mp4\n",
            "[MoviePy] Writing audio in volume-feature-test-range2TEMP_MPY_wvf_snd.mp4\n"
          ],
          "name": "stdout"
        },
        {
          "output_type": "stream",
          "text": [
            "100%|██████████| 128/128 [00:00<00:00, 640.23it/s]"
          ],
          "name": "stderr"
        },
        {
          "output_type": "stream",
          "text": [
            "[MoviePy] Done.\n",
            "[MoviePy] Writing video ../volume-feature-test-range2.mp4\n"
          ],
          "name": "stdout"
        },
        {
          "output_type": "stream",
          "text": [
            "\n",
            "100%|██████████| 347/347 [00:15<00:00, 22.54it/s]\n"
          ],
          "name": "stderr"
        },
        {
          "output_type": "stream",
          "text": [
            "[MoviePy] Done.\n",
            "[MoviePy] >>>> Video ready: ../volume-feature-test-range2.mp4 \n",
            "\n"
          ],
          "name": "stdout"
        }
      ]
    },
    {
      "cell_type": "code",
      "metadata": {
        "id": "ZMyuqpcDBqQ3"
      },
      "source": [
        ""
      ],
      "execution_count": null,
      "outputs": []
    }
  ]
}